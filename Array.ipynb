{
 "cells": [
  {
   "cell_type": "code",
   "execution_count": 1,
   "id": "6e999bb3-55fe-42be-8cdd-75a120f8daec",
   "metadata": {},
   "outputs": [],
   "source": [
    "dial_codes = [(880, 'Bangladesh'), (55, 'Brazil'), (86, 'Cina'), (91, 'India'), (62, 'Indonesia'), (81, 'Japon')]"
   ]
  },
  {
   "cell_type": "code",
   "execution_count": 2,
   "id": "477ece8b-146c-4300-a033-a03a0880bed0",
   "metadata": {},
   "outputs": [],
   "source": [
    "country_dial = {country : code for code, country in dial_codes}"
   ]
  },
  {
   "cell_type": "code",
   "execution_count": 3,
   "id": "48491e43-e82f-44aa-bc64-03b45fe241d8",
   "metadata": {},
   "outputs": [
    {
     "data": {
      "text/plain": [
       "{'Bangladesh': 880,\n",
       " 'Brazil': 55,\n",
       " 'Cina': 86,\n",
       " 'India': 91,\n",
       " 'Indonesia': 62,\n",
       " 'Japon': 81}"
      ]
     },
     "execution_count": 3,
     "metadata": {},
     "output_type": "execute_result"
    }
   ],
   "source": [
    "country_dial"
   ]
  },
  {
   "cell_type": "code",
   "execution_count": 4,
   "id": "bb9a9aa6-22ca-45bc-abb8-071c6449b2fe",
   "metadata": {},
   "outputs": [
    {
     "data": {
      "text/plain": [
       "{55: 'BRAZIL', 62: 'INDONESIA'}"
      ]
     },
     "execution_count": 4,
     "metadata": {},
     "output_type": "execute_result"
    }
   ],
   "source": [
    "{code: country.upper()\n",
    "     for country, code in sorted(country_dial.items())\n",
    "     if code < 70}"
   ]
  },
  {
   "cell_type": "code",
   "execution_count": null,
   "id": "5acc1a9d-fd51-45cf-b1cf-22ae4ba696e6",
   "metadata": {},
   "outputs": [],
   "source": []
  },
  {
   "cell_type": "code",
   "execution_count": null,
   "id": "de940f42-506a-4900-a9d9-98ab31e38be8",
   "metadata": {},
   "outputs": [],
   "source": []
  }
 ],
 "metadata": {
  "kernelspec": {
   "display_name": "Python 3 (ipykernel)",
   "language": "python",
   "name": "python3"
  },
  "language_info": {
   "codemirror_mode": {
    "name": "ipython",
    "version": 3
   },
   "file_extension": ".py",
   "mimetype": "text/x-python",
   "name": "python",
   "nbconvert_exporter": "python",
   "pygments_lexer": "ipython3",
   "version": "3.12.3"
  }
 },
 "nbformat": 4,
 "nbformat_minor": 5
}
